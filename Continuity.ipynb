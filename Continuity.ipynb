{
 "cells": [
  {
   "cell_type": "markdown",
   "id": "09e42992-f65c-4b7c-b6ab-375fc61e0839",
   "metadata": {},
   "source": [
    "# Continuity of RB \n",
    "Code to generate plot which shows continuity of RB"
   ]
  },
  {
   "cell_type": "code",
   "execution_count": null,
   "id": "31adf1c6-b2c1-4185-a3e1-42b61592197d",
   "metadata": {},
   "outputs": [],
   "source": [
    "import numpy as np\n",
    "import redundancy_bottleneck as rb\n",
    "\n",
    "# Channels from Y=(X1,X2) to X1 and X2\n",
    "src_cond_dists = (np.array([[1,1,0,0],[0,0,1,1]]),\n",
    "                  np.array([[1,0,1,0],[0,1,0,1]]))\n",
    "\n",
    "eps_vals  = np.logspace(-2,0,20)\n",
    "pred_vals = []\n",
    "\n",
    "R         = 1e-2                  # Desired level of compression\n",
    "beta_vals = np.logspace(-3,2,100) # Set of possible beta\n",
    "\n",
    "last_sol = None\n",
    "for eps in eps_vals:\n",
    "    # probabilities of:      00      01    10       11\n",
    "    pY       = np.array([.5-eps/4, eps/4, eps/4, .5-eps/4])\n",
    "\n",
    "    def f(beta):\n",
    "        dd = rb.get_rb_value(beta=beta, pY=pY, src_cond_dists=src_cond_dists, num_retries=10)\n",
    "        return dd.compression, dd.prediction\n",
    "\n",
    "    min_f = f(beta_vals.max())\n",
    "    if min_f[0] <= R:\n",
    "        pred = min_f[1]\n",
    "    else:\n",
    "        comp_pred_vals = np.array([ f(beta) for beta in beta_vals ])\n",
    "        \n",
    "        # Interpolate compression and prediction values to estimate overall RB curve\n",
    "        coef = np.polyfit(comp_pred_vals[:,0], comp_pred_vals[:,1], deg=1)\n",
    "        # Calculate interpolated prediction value at compression R\n",
    "        pred = np.poly1d(coef)(R)\n",
    "        \n",
    "    print(\"eps=%6.4f pred=%7.4f\"%(eps, pred))\n",
    "    pred_vals.append(pred)\n"
   ]
  },
  {
   "cell_type": "code",
   "execution_count": null,
   "id": "43467388-ae18-4ed9-b833-aa4d8129465d",
   "metadata": {},
   "outputs": [],
   "source": [
    "# Plotting stuff\n",
    "import matplotlib.pyplot as plt\n",
    "import seaborn as sns\n",
    "import matplotlib\n",
    "\n",
    "\n",
    "matplotlib.rcParams['mathtext.fontset'] = 'stix'\n",
    "matplotlib.rcParams['font.family'] = 'STIXGeneral'\n",
    "matplotlib.rcParams['text.usetex'] = True \n",
    "matplotlib.rcParams['text.latex.preamble']=\"\"\"\n",
    "\\\\usepackage{newtxtext}\n",
    "\\\\usepackage{bm}\n",
    "\"\"\"\n",
    "\n",
    "sns.set_style('white') \n",
    "\n",
    "\n",
    "# Redundancy bottleneck plot\n",
    "plt.figure(figsize=(4,3))\n",
    "plt.xlabel(r'$\\epsilon$')\n",
    "br_color = 'k'\n",
    "plt.plot(eps_vals, pred_vals, label=r'$I_\\textrm{RB}(R)$')\n",
    "plt.ylabel('Redundancy')\n",
    "# Blackwell redundancy plot\n",
    "plt.plot(eps_vals, 0*eps_vals, c=br_color, label=r'$I_\\cap$')\n",
    "plt.scatter([0,], [1,], c=br_color, zorder=10)\n",
    "plt.scatter([0,], [0,], facecolor='white', edgecolor=br_color, zorder=10)\n",
    "plt.legend(frameon=False, handlelength=1.5)\n",
    "\n",
    "fname = 'continuity.pdf'\n",
    "plt.savefig(fname, bbox_inches='tight')\n",
    "\n"
   ]
  },
  {
   "cell_type": "code",
   "execution_count": null,
   "id": "b8cb6ee1-ede8-499e-82f4-5bed5e85f17d",
   "metadata": {},
   "outputs": [],
   "source": []
  }
 ],
 "metadata": {
  "kernelspec": {
   "display_name": "Python 3 (ipykernel)",
   "language": "python",
   "name": "python3"
  },
  "language_info": {
   "codemirror_mode": {
    "name": "ipython",
    "version": 3
   },
   "file_extension": ".py",
   "mimetype": "text/x-python",
   "name": "python",
   "nbconvert_exporter": "python",
   "pygments_lexer": "ipython3",
   "version": "3.11.5"
  }
 },
 "nbformat": 4,
 "nbformat_minor": 5
}
